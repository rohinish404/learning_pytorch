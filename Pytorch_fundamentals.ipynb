{
  "nbformat": 4,
  "nbformat_minor": 0,
  "metadata": {
    "colab": {
      "provenance": [],
      "authorship_tag": "ABX9TyNucpoS+fNTJUrvfHTm4YZi",
      "include_colab_link": true
    },
    "kernelspec": {
      "name": "python3",
      "display_name": "Python 3"
    },
    "language_info": {
      "name": "python"
    },
    "gpuClass": "standard"
  },
  "cells": [
    {
      "cell_type": "markdown",
      "metadata": {
        "id": "view-in-github",
        "colab_type": "text"
      },
      "source": [
        "<a href=\"https://colab.research.google.com/github/rohinish404/learning_pytorch/blob/master/Pytorch_fundamentals.ipynb\" target=\"_parent\"><img src=\"https://colab.research.google.com/assets/colab-badge.svg\" alt=\"Open In Colab\"/></a>"
      ]
    },
    {
      "cell_type": "code",
      "execution_count": 1,
      "metadata": {
        "colab": {
          "base_uri": "https://localhost:8080/"
        },
        "id": "N9H_l0DIsacA",
        "outputId": "5057dbc2-9423-46c2-ee93-09ef11200a77"
      },
      "outputs": [
        {
          "output_type": "stream",
          "name": "stdout",
          "text": [
            "hello world\n"
          ]
        }
      ],
      "source": [
        "print('hello world')"
      ]
    },
    {
      "cell_type": "code",
      "source": [
        "import torch\n",
        "import pandas as pd\n",
        "import matplotlib.pyplot as plt\n",
        "import numpy as np"
      ],
      "metadata": {
        "id": "8Vfqpfm9shtd"
      },
      "execution_count": 2,
      "outputs": []
    },
    {
      "cell_type": "code",
      "source": [
        "print(torch.__version__)"
      ],
      "metadata": {
        "colab": {
          "base_uri": "https://localhost:8080/"
        },
        "id": "_4G_-VoCs_tv",
        "outputId": "c79ff980-ebbc-43c2-fbdf-123f80dd2d55"
      },
      "execution_count": 3,
      "outputs": [
        {
          "output_type": "stream",
          "name": "stdout",
          "text": [
            "1.13.1+cu116\n"
          ]
        }
      ]
    },
    {
      "cell_type": "code",
      "source": [
        "scalar = torch.tensor(7)\n",
        "scalar\n",
        "scalar.ndim"
      ],
      "metadata": {
        "colab": {
          "base_uri": "https://localhost:8080/"
        },
        "id": "cIdslf56tJ5Z",
        "outputId": "b09974b1-15d9-4012-8a81-2371fa710ce9"
      },
      "execution_count": 4,
      "outputs": [
        {
          "output_type": "execute_result",
          "data": {
            "text/plain": [
              "0"
            ]
          },
          "metadata": {},
          "execution_count": 4
        }
      ]
    },
    {
      "cell_type": "code",
      "source": [
        "vector = torch.tensor([7,7])\n",
        "vector"
      ],
      "metadata": {
        "colab": {
          "base_uri": "https://localhost:8080/"
        },
        "id": "CUkvM1HYtoYW",
        "outputId": "5489f16a-9428-43e8-a5d9-350b432746b0"
      },
      "execution_count": 5,
      "outputs": [
        {
          "output_type": "execute_result",
          "data": {
            "text/plain": [
              "tensor([7, 7])"
            ]
          },
          "metadata": {},
          "execution_count": 5
        }
      ]
    },
    {
      "cell_type": "code",
      "source": [
        "scalar.item()"
      ],
      "metadata": {
        "colab": {
          "base_uri": "https://localhost:8080/"
        },
        "id": "g8ufScMNtwQJ",
        "outputId": "83db6899-8783-4187-a7d2-ce1080b0603a"
      },
      "execution_count": 6,
      "outputs": [
        {
          "output_type": "execute_result",
          "data": {
            "text/plain": [
              "7"
            ]
          },
          "metadata": {},
          "execution_count": 6
        }
      ]
    },
    {
      "cell_type": "code",
      "source": [
        "vector.ndim"
      ],
      "metadata": {
        "colab": {
          "base_uri": "https://localhost:8080/"
        },
        "id": "p7_0Wt8DuIYu",
        "outputId": "142353c9-477a-4d92-8718-677630e8c8c6"
      },
      "execution_count": 7,
      "outputs": [
        {
          "output_type": "execute_result",
          "data": {
            "text/plain": [
              "1"
            ]
          },
          "metadata": {},
          "execution_count": 7
        }
      ]
    },
    {
      "cell_type": "code",
      "source": [
        "vector.shape"
      ],
      "metadata": {
        "colab": {
          "base_uri": "https://localhost:8080/"
        },
        "id": "7sDF0Y3UuLLn",
        "outputId": "b5a8af69-2391-4005-e715-bc13bae6a657"
      },
      "execution_count": 8,
      "outputs": [
        {
          "output_type": "execute_result",
          "data": {
            "text/plain": [
              "torch.Size([2])"
            ]
          },
          "metadata": {},
          "execution_count": 8
        }
      ]
    },
    {
      "cell_type": "code",
      "source": [
        "MATRIX = torch.tensor([[7,8],\n",
        "                       [9,10]])\n",
        "MATRIX"
      ],
      "metadata": {
        "colab": {
          "base_uri": "https://localhost:8080/"
        },
        "id": "062dYssJuNLV",
        "outputId": "c824f827-87a3-4bbc-aa07-394ddc38d04a"
      },
      "execution_count": 9,
      "outputs": [
        {
          "output_type": "execute_result",
          "data": {
            "text/plain": [
              "tensor([[ 7,  8],\n",
              "        [ 9, 10]])"
            ]
          },
          "metadata": {},
          "execution_count": 9
        }
      ]
    },
    {
      "cell_type": "code",
      "source": [
        "MATRIX.ndim"
      ],
      "metadata": {
        "colab": {
          "base_uri": "https://localhost:8080/"
        },
        "id": "PuOhxrYKu_eh",
        "outputId": "80de1dbe-a66b-4cbf-c6a2-e71c181823c2"
      },
      "execution_count": 10,
      "outputs": [
        {
          "output_type": "execute_result",
          "data": {
            "text/plain": [
              "2"
            ]
          },
          "metadata": {},
          "execution_count": 10
        }
      ]
    },
    {
      "cell_type": "code",
      "source": [
        "MATRIX.shape"
      ],
      "metadata": {
        "colab": {
          "base_uri": "https://localhost:8080/"
        },
        "id": "6nIP2jyzvDdI",
        "outputId": "f2745cb6-5f2b-4ab7-bf9e-5c44f5d3e712"
      },
      "execution_count": 11,
      "outputs": [
        {
          "output_type": "execute_result",
          "data": {
            "text/plain": [
              "torch.Size([2, 2])"
            ]
          },
          "metadata": {},
          "execution_count": 11
        }
      ]
    },
    {
      "cell_type": "code",
      "source": [
        "TENSOR = torch.tensor([[[1,2,3],\n",
        "                        [3,6,9],\n",
        "                        [9,8,7]]])\n",
        "TENSOR"
      ],
      "metadata": {
        "colab": {
          "base_uri": "https://localhost:8080/"
        },
        "id": "cdB4kk4uvF4L",
        "outputId": "475e344d-b2ad-4d3f-c324-1659ea8a9fa8"
      },
      "execution_count": 12,
      "outputs": [
        {
          "output_type": "execute_result",
          "data": {
            "text/plain": [
              "tensor([[[1, 2, 3],\n",
              "         [3, 6, 9],\n",
              "         [9, 8, 7]]])"
            ]
          },
          "metadata": {},
          "execution_count": 12
        }
      ]
    },
    {
      "cell_type": "code",
      "source": [
        "random_tensor = torch.rand(3,4)"
      ],
      "metadata": {
        "id": "KXpcgCH1vXUG"
      },
      "execution_count": 13,
      "outputs": []
    },
    {
      "cell_type": "code",
      "source": [
        "random_tensor"
      ],
      "metadata": {
        "id": "LCKvYi_Jv-T2",
        "outputId": "80a9d4ab-2c59-4cae-8a14-552303cfd581",
        "colab": {
          "base_uri": "https://localhost:8080/"
        }
      },
      "execution_count": 14,
      "outputs": [
        {
          "output_type": "execute_result",
          "data": {
            "text/plain": [
              "tensor([[0.0547, 0.0437, 0.4323, 0.2962],\n",
              "        [0.0574, 0.1158, 0.2020, 0.7659],\n",
              "        [0.3595, 0.2177, 0.8879, 0.1354]])"
            ]
          },
          "metadata": {},
          "execution_count": 14
        }
      ]
    },
    {
      "cell_type": "code",
      "source": [
        "random_tensor.shape"
      ],
      "metadata": {
        "id": "VaadIA7rwCQa",
        "outputId": "c32cf2c3-3b95-4c6f-eed9-6eee6be22607",
        "colab": {
          "base_uri": "https://localhost:8080/"
        }
      },
      "execution_count": 15,
      "outputs": [
        {
          "output_type": "execute_result",
          "data": {
            "text/plain": [
              "torch.Size([3, 4])"
            ]
          },
          "metadata": {},
          "execution_count": 15
        }
      ]
    },
    {
      "cell_type": "code",
      "source": [
        "random_tensor.device\n"
      ],
      "metadata": {
        "id": "RWoiZQGRxwgT",
        "outputId": "21cd67fb-dfa7-4fa6-bd8a-55466a29d416",
        "colab": {
          "base_uri": "https://localhost:8080/"
        }
      },
      "execution_count": 16,
      "outputs": [
        {
          "output_type": "execute_result",
          "data": {
            "text/plain": [
              "device(type='cpu')"
            ]
          },
          "metadata": {},
          "execution_count": 16
        }
      ]
    },
    {
      "cell_type": "code",
      "source": [
        "random_tensor.dtype"
      ],
      "metadata": {
        "id": "w0Cg1mWGx_BF",
        "outputId": "0f1632d2-a68e-47bb-cf79-69b8c88efefe",
        "colab": {
          "base_uri": "https://localhost:8080/"
        }
      },
      "execution_count": 17,
      "outputs": [
        {
          "output_type": "execute_result",
          "data": {
            "text/plain": [
              "torch.float32"
            ]
          },
          "metadata": {},
          "execution_count": 17
        }
      ]
    },
    {
      "cell_type": "code",
      "source": [
        "x = torch.arange(1.,10.)\n",
        "x,x.shape"
      ],
      "metadata": {
        "id": "QPBZ7v9byDQq",
        "outputId": "c56fb8a6-3068-4e90-f9ff-e2f16fb653dd",
        "colab": {
          "base_uri": "https://localhost:8080/"
        }
      },
      "execution_count": 18,
      "outputs": [
        {
          "output_type": "execute_result",
          "data": {
            "text/plain": [
              "(tensor([1., 2., 3., 4., 5., 6., 7., 8., 9.]), torch.Size([9]))"
            ]
          },
          "metadata": {},
          "execution_count": 18
        }
      ]
    },
    {
      "cell_type": "code",
      "source": [
        "x_reshaped = x.reshape(1,9)\n",
        "x_reshaped,x_reshaped.shape"
      ],
      "metadata": {
        "id": "-_wIt5c8bY-N",
        "outputId": "ec5e8825-a85a-420a-9b90-efe2f3a59750",
        "colab": {
          "base_uri": "https://localhost:8080/"
        }
      },
      "execution_count": 19,
      "outputs": [
        {
          "output_type": "execute_result",
          "data": {
            "text/plain": [
              "(tensor([[1., 2., 3., 4., 5., 6., 7., 8., 9.]]), torch.Size([1, 9]))"
            ]
          },
          "metadata": {},
          "execution_count": 19
        }
      ]
    },
    {
      "cell_type": "code",
      "source": [
        "z = x.view(1,9)\n",
        "z,z.shape"
      ],
      "metadata": {
        "id": "K7vbqAxRbkMp",
        "outputId": "6fac83d5-2a07-4bbc-a44c-cf88ebbc341f",
        "colab": {
          "base_uri": "https://localhost:8080/"
        }
      },
      "execution_count": 20,
      "outputs": [
        {
          "output_type": "execute_result",
          "data": {
            "text/plain": [
              "(tensor([[1., 2., 3., 4., 5., 6., 7., 8., 9.]]), torch.Size([1, 9]))"
            ]
          },
          "metadata": {},
          "execution_count": 20
        }
      ]
    },
    {
      "cell_type": "code",
      "source": [
        "x_stacked = torch.stack([x,x,x,x],dim=1)\n",
        "x_stacked"
      ],
      "metadata": {
        "id": "eyLm_T-ecAfI",
        "outputId": "6a06233c-81a8-4aee-b287-b9e1e6b9715f",
        "colab": {
          "base_uri": "https://localhost:8080/"
        }
      },
      "execution_count": 21,
      "outputs": [
        {
          "output_type": "execute_result",
          "data": {
            "text/plain": [
              "tensor([[1., 1., 1., 1.],\n",
              "        [2., 2., 2., 2.],\n",
              "        [3., 3., 3., 3.],\n",
              "        [4., 4., 4., 4.],\n",
              "        [5., 5., 5., 5.],\n",
              "        [6., 6., 6., 6.],\n",
              "        [7., 7., 7., 7.],\n",
              "        [8., 8., 8., 8.],\n",
              "        [9., 9., 9., 9.]])"
            ]
          },
          "metadata": {},
          "execution_count": 21
        }
      ]
    },
    {
      "cell_type": "code",
      "source": [
        "x = x.reshape(1,3,3)"
      ],
      "metadata": {
        "id": "Wc1ZbJg2iqic"
      },
      "execution_count": 22,
      "outputs": []
    },
    {
      "cell_type": "code",
      "source": [
        "x[0]"
      ],
      "metadata": {
        "id": "P3dxg2GLu42b",
        "outputId": "f221d070-52c7-4185-ef36-d369c0a47f8a",
        "colab": {
          "base_uri": "https://localhost:8080/"
        }
      },
      "execution_count": 23,
      "outputs": [
        {
          "output_type": "execute_result",
          "data": {
            "text/plain": [
              "tensor([[1., 2., 3.],\n",
              "        [4., 5., 6.],\n",
              "        [7., 8., 9.]])"
            ]
          },
          "metadata": {},
          "execution_count": 23
        }
      ]
    },
    {
      "cell_type": "code",
      "source": [
        "x[:,2,1]"
      ],
      "metadata": {
        "id": "b2pBPapzvAKf",
        "outputId": "c3551408-8c87-48ec-9d22-9ce2968f9e0d",
        "colab": {
          "base_uri": "https://localhost:8080/"
        }
      },
      "execution_count": 24,
      "outputs": [
        {
          "output_type": "execute_result",
          "data": {
            "text/plain": [
              "tensor([8.])"
            ]
          },
          "metadata": {},
          "execution_count": 24
        }
      ]
    },
    {
      "cell_type": "code",
      "source": [
        "weight = 0.7\n",
        "bias = 0.3\n",
        "start = 0\n",
        "end = 1\n",
        "step = 0.02\n",
        "X_new = torch.arange(start,end,step).unsqueeze(dim=1)\n",
        "y = weight * X_new + bias"
      ],
      "metadata": {
        "id": "rldAc7u2vEnI"
      },
      "execution_count": 25,
      "outputs": []
    },
    {
      "cell_type": "code",
      "source": [
        "X_new[:10]"
      ],
      "metadata": {
        "id": "pjrIrWQxGRim",
        "outputId": "bb5c6674-28ad-4d44-a370-c0c0e6957f17",
        "colab": {
          "base_uri": "https://localhost:8080/"
        }
      },
      "execution_count": 26,
      "outputs": [
        {
          "output_type": "execute_result",
          "data": {
            "text/plain": [
              "tensor([[0.0000],\n",
              "        [0.0200],\n",
              "        [0.0400],\n",
              "        [0.0600],\n",
              "        [0.0800],\n",
              "        [0.1000],\n",
              "        [0.1200],\n",
              "        [0.1400],\n",
              "        [0.1600],\n",
              "        [0.1800]])"
            ]
          },
          "metadata": {},
          "execution_count": 26
        }
      ]
    },
    {
      "cell_type": "code",
      "source": [
        "train_split = int(0.8*len(X_new))\n",
        "X_train,y_train = X_new[:train_split],y[:train_split]\n",
        "X_test,y_test = X_new[train_split:],y[train_split:]\n",
        "len(X_train),len(X_test),len(y_train),len(y_test)"
      ],
      "metadata": {
        "id": "Sa5Grt__GUZ4",
        "outputId": "99dc056a-277d-40b6-a1f5-eb19be756744",
        "colab": {
          "base_uri": "https://localhost:8080/"
        }
      },
      "execution_count": 27,
      "outputs": [
        {
          "output_type": "execute_result",
          "data": {
            "text/plain": [
              "(40, 10, 40, 10)"
            ]
          },
          "metadata": {},
          "execution_count": 27
        }
      ]
    },
    {
      "cell_type": "code",
      "source": [
        "def plot_predictions(train_data = X_train,\n",
        "                     train_labels = y_train,\n",
        "                     test_data = X_test,\n",
        "                     test_labels = y_test,\n",
        "                     predictions = None\n",
        "                     ):\n",
        "  # plt.figure(figsize(10,7))\n",
        "  plt.scatter(train_data,train_labels,c='b',label='training data')\n",
        "  plt.scatter(test_data,test_labels,c='g',label='testing data')\n",
        "\n",
        "  if predictions is not None:\n",
        "      plt.scatter(test_data,predictions,c='r',label='Predictions')"
      ],
      "metadata": {
        "id": "rU7ZWiIfGsk8"
      },
      "execution_count": 28,
      "outputs": []
    },
    {
      "cell_type": "code",
      "source": [
        "plot_predictions()"
      ],
      "metadata": {
        "id": "8ojIaCrJ2KbO",
        "outputId": "b859a85f-8d5f-4ea6-d66b-bf07353079af",
        "colab": {
          "base_uri": "https://localhost:8080/",
          "height": 265
        }
      },
      "execution_count": 29,
      "outputs": [
        {
          "output_type": "display_data",
          "data": {
            "text/plain": [
              "<Figure size 432x288 with 1 Axes>"
            ],
            "image/png": "[encoded data removed]"
          },
          "metadata": {
            "needs_background": "light"
          }
        }
      ]
    },
    {
      "cell_type": "code",
      "source": [
        "import torch.nn as nn\n",
        "class LinearRegressionModel(nn.Module):\n",
        "  def __init__(self):\n",
        "    super().__init__()\n",
        "    self.weights = nn.Parameter(torch.randn(1,\n",
        "                                            dtype=torch.float),\n",
        "                                requires_grad = True)\n",
        "    \n",
        "    self.bias = nn.Parameter(torch.randn(1,\n",
        "                                            dtype=torch.float),\n",
        "                                requires_grad = True)\n",
        "  def forward(self, x: torch.Tensor) -> torch.Tensor:\n",
        "    return self.weights * x + self.bias"
      ],
      "metadata": {
        "id": "Um_zOhKX2OZG"
      },
      "execution_count": 30,
      "outputs": []
    },
    {
      "cell_type": "code",
      "source": [
        "torch.manual_seed(42)\n",
        "model_0 = LinearRegressionModel()\n",
        "list(model_0.parameters())"
      ],
      "metadata": {
        "id": "r3XVDiGYUHN3",
        "outputId": "41932f5a-451b-444b-9d9d-13cace605257",
        "colab": {
          "base_uri": "https://localhost:8080/"
        }
      },
      "execution_count": 56,
      "outputs": [
        {
          "output_type": "execute_result",
          "data": {
            "text/plain": [
              "[Parameter containing:\n",
              " tensor([0.3367], requires_grad=True), Parameter containing:\n",
              " tensor([0.1288], requires_grad=True)]"
            ]
          },
          "metadata": {},
          "execution_count": 56
        }
      ]
    },
    {
      "cell_type": "code",
      "source": [
        "model_0.state_dict()"
      ],
      "metadata": {
        "id": "vQ19VOs5UjyF",
        "outputId": "fc751fa1-dcd2-45f6-8cd2-e718d773d6e8",
        "colab": {
          "base_uri": "https://localhost:8080/"
        }
      },
      "execution_count": 57,
      "outputs": [
        {
          "output_type": "execute_result",
          "data": {
            "text/plain": [
              "OrderedDict([('weights', tensor([0.3367])), ('bias', tensor([0.1288]))])"
            ]
          },
          "metadata": {},
          "execution_count": 57
        }
      ]
    },
    {
      "cell_type": "code",
      "source": [
        "with torch.inference_mode():\n",
        "  y_preds = model_0(X_test)"
      ],
      "metadata": {
        "id": "9bXYRsuVUspI"
      },
      "execution_count": 58,
      "outputs": []
    },
    {
      "cell_type": "code",
      "source": [
        "plot_predictions(predictions = y_preds)"
      ],
      "metadata": {
        "id": "DzFDO9dwVA4f",
        "outputId": "5ad8504b-40c6-47b8-cfb5-a182089bcaef",
        "colab": {
          "base_uri": "https://localhost:8080/",
          "height": 265
        }
      },
      "execution_count": 59,
      "outputs": [
        {
          "output_type": "display_data",
          "data": {
            "text/plain": [
              "<Figure size 432x288 with 1 Axes>"
            ],
            "image/png": "[encoded data removed]"
          },
          "metadata": {
            "needs_background": "light"
          }
        }
      ]
    },
    {
      "cell_type": "code",
      "source": [
        "loss_fn = nn.L1Loss()\n",
        "optimizer = torch.optim.SGD(params = model_0.parameters(),lr=0.01)"
      ],
      "metadata": {
        "id": "vQlumsbXVX8V"
      },
      "execution_count": 60,
      "outputs": []
    },
    {
      "cell_type": "code",
      "source": [
        "torch.manual_seed(42)\n",
        "epochs = 200\n",
        "\n",
        "epoch_count = []\n",
        "loss_values = []\n",
        "test_loss_values = []\n",
        "\n",
        "for epoch in range(epochs):\n",
        "  model_0.train()\n",
        "  y_pred = model_0(X_train)\n",
        "  loss = loss_fn(y_pred,y_train)\n",
        "  optimizer.zero_grad()\n",
        "  loss.backward()\n",
        "  optimizer.step()\n",
        "\n",
        "  model_0.eval()\n",
        "  with torch.inference_mode():\n",
        "    test_pred = model_0(X_test)\n",
        "    test_loss = loss_fn(test_pred,y_test)\n",
        "\n",
        "\n",
        "  if epochs % 10 ==0:\n",
        "    epoch_count.append(epoch)\n",
        "    loss_values.append(loss)\n",
        "    test_loss_values.append(test_loss)  \n",
        "    print(f\"Epoch: {epoch} | Loss:{loss} | Test loss:{test_loss}\")  \n",
        "    print(model_0.state_dict())\n",
        "\n",
        "  "
      ],
      "metadata": {
        "id": "voj4R8o7WOWu",
        "outputId": "0515a44b-3d7a-4aac-a738-527939a6c567",
        "colab": {
          "base_uri": "https://localhost:8080/"
        }
      },
      "execution_count": 61,
      "outputs": [
        {
          "output_type": "stream",
          "name": "stdout",
          "text": [
            "Epoch: 0 | Loss:0.31288138031959534 | Test loss:0.48106518387794495\n",
            "OrderedDict([('weights', tensor([0.3406])), ('bias', tensor([0.1388]))])\n",
            "Epoch: 1 | Loss:0.3013603389263153 | Test loss:0.4675942063331604\n",
            "OrderedDict([('weights', tensor([0.3445])), ('bias', tensor([0.1488]))])\n",
            "Epoch: 2 | Loss:0.28983935713768005 | Test loss:0.4541231691837311\n",
            "OrderedDict([('weights', tensor([0.3484])), ('bias', tensor([0.1588]))])\n",
            "Epoch: 3 | Loss:0.2783183455467224 | Test loss:0.44065219163894653\n",
            "OrderedDict([('weights', tensor([0.3523])), ('bias', tensor([0.1688]))])\n",
            "Epoch: 4 | Loss:0.26679736375808716 | Test loss:0.4271811842918396\n",
            "OrderedDict([('weights', tensor([0.3562])), ('bias', tensor([0.1788]))])\n",
            "Epoch: 5 | Loss:0.2552763521671295 | Test loss:0.41371020674705505\n",
            "OrderedDict([('weights', tensor([0.3601])), ('bias', tensor([0.1888]))])\n",
            "Epoch: 6 | Loss:0.24375534057617188 | Test loss:0.40023916959762573\n",
            "OrderedDict([('weights', tensor([0.3640])), ('bias', tensor([0.1988]))])\n",
            "Epoch: 7 | Loss:0.23223432898521423 | Test loss:0.3867681920528412\n",
            "OrderedDict([('weights', tensor([0.3679])), ('bias', tensor([0.2088]))])\n",
            "Epoch: 8 | Loss:0.22071333229541779 | Test loss:0.37329721450805664\n",
            "OrderedDict([('weights', tensor([0.3718])), ('bias', tensor([0.2188]))])\n",
            "Epoch: 9 | Loss:0.20919232070446014 | Test loss:0.3598262071609497\n",
            "OrderedDict([('weights', tensor([0.3757])), ('bias', tensor([0.2288]))])\n",
            "Epoch: 10 | Loss:0.1976713240146637 | Test loss:0.3463551998138428\n",
            "OrderedDict([('weights', tensor([0.3796])), ('bias', tensor([0.2388]))])\n",
            "Epoch: 11 | Loss:0.18615034222602844 | Test loss:0.3328842222690582\n",
            "OrderedDict([('weights', tensor([0.3835])), ('bias', tensor([0.2488]))])\n",
            "Epoch: 12 | Loss:0.1746293306350708 | Test loss:0.3194132149219513\n",
            "OrderedDict([('weights', tensor([0.3874])), ('bias', tensor([0.2588]))])\n",
            "Epoch: 13 | Loss:0.16310831904411316 | Test loss:0.30594223737716675\n",
            "OrderedDict([('weights', tensor([0.3913])), ('bias', tensor([0.2688]))])\n",
            "Epoch: 14 | Loss:0.1515873372554779 | Test loss:0.2924712300300598\n",
            "OrderedDict([('weights', tensor([0.3952])), ('bias', tensor([0.2788]))])\n",
            "Epoch: 15 | Loss:0.14006635546684265 | Test loss:0.27900025248527527\n",
            "OrderedDict([('weights', tensor([0.3991])), ('bias', tensor([0.2888]))])\n",
            "Epoch: 16 | Loss:0.1285453587770462 | Test loss:0.2655292749404907\n",
            "OrderedDict([('weights', tensor([0.4030])), ('bias', tensor([0.2988]))])\n",
            "Epoch: 17 | Loss:0.11702437698841095 | Test loss:0.2520582973957062\n",
            "OrderedDict([('weights', tensor([0.4069])), ('bias', tensor([0.3088]))])\n",
            "Epoch: 18 | Loss:0.1060912236571312 | Test loss:0.2395961582660675\n",
            "OrderedDict([('weights', tensor([0.4108])), ('bias', tensor([0.3178]))])\n",
            "Epoch: 19 | Loss:0.09681284427642822 | Test loss:0.22817862033843994\n",
            "OrderedDict([('weights', tensor([0.4146])), ('bias', tensor([0.3258]))])\n",
            "Epoch: 20 | Loss:0.08908725529909134 | Test loss:0.21729660034179688\n",
            "OrderedDict([('weights', tensor([0.4184])), ('bias', tensor([0.3333]))])\n",
            "Epoch: 21 | Loss:0.08227583020925522 | Test loss:0.2069590985774994\n",
            "OrderedDict([('weights', tensor([0.4222])), ('bias', tensor([0.3403]))])\n",
            "Epoch: 22 | Loss:0.07638873159885406 | Test loss:0.19773726165294647\n",
            "OrderedDict([('weights', tensor([0.4258])), ('bias', tensor([0.3463]))])\n",
            "Epoch: 23 | Loss:0.07160007208585739 | Test loss:0.1890866756439209\n",
            "OrderedDict([('weights', tensor([0.4293])), ('bias', tensor([0.3518]))])\n",
            "Epoch: 24 | Loss:0.06747635453939438 | Test loss:0.18101617693901062\n",
            "OrderedDict([('weights', tensor([0.4328])), ('bias', tensor([0.3568]))])\n",
            "Epoch: 25 | Loss:0.06395438313484192 | Test loss:0.17353470623493195\n",
            "OrderedDict([('weights', tensor([0.4361])), ('bias', tensor([0.3613]))])\n",
            "Epoch: 26 | Loss:0.06097004935145378 | Test loss:0.16665108501911163\n",
            "OrderedDict([('weights', tensor([0.4394])), ('bias', tensor([0.3653]))])\n",
            "Epoch: 27 | Loss:0.05845819041132927 | Test loss:0.16037428379058838\n",
            "OrderedDict([('weights', tensor([0.4425])), ('bias', tensor([0.3688]))])\n",
            "Epoch: 28 | Loss:0.05635259300470352 | Test loss:0.15471318364143372\n",
            "OrderedDict([('weights', tensor([0.4455])), ('bias', tensor([0.3718]))])\n",
            "Epoch: 29 | Loss:0.0545857772231102 | Test loss:0.14967669546604156\n",
            "OrderedDict([('weights', tensor([0.4483])), ('bias', tensor([0.3743]))])\n",
            "Epoch: 30 | Loss:0.053148526698350906 | Test loss:0.14464017748832703\n",
            "OrderedDict([('weights', tensor([0.4512])), ('bias', tensor([0.3768]))])\n",
            "Epoch: 31 | Loss:0.05181945487856865 | Test loss:0.14023718237876892\n",
            "OrderedDict([('weights', tensor([0.4539])), ('bias', tensor([0.3788]))])\n",
            "Epoch: 32 | Loss:0.05069301277399063 | Test loss:0.13647659122943878\n",
            "OrderedDict([('weights', tensor([0.4564])), ('bias', tensor([0.3803]))])\n",
            "Epoch: 33 | Loss:0.0498228520154953 | Test loss:0.13271598517894745\n",
            "OrderedDict([('weights', tensor([0.4590])), ('bias', tensor([0.3818]))])\n",
            "Epoch: 34 | Loss:0.04895269125699997 | Test loss:0.12895536422729492\n",
            "OrderedDict([('weights', tensor([0.4615])), ('bias', tensor([0.3833]))])\n",
            "Epoch: 35 | Loss:0.04819351062178612 | Test loss:0.12584610283374786\n",
            "OrderedDict([('weights', tensor([0.4639])), ('bias', tensor([0.3843]))])\n",
            "Epoch: 36 | Loss:0.047531817108392715 | Test loss:0.12273679673671722\n",
            "OrderedDict([('weights', tensor([0.4662])), ('bias', tensor([0.3853]))])\n",
            "Epoch: 37 | Loss:0.04692792519927025 | Test loss:0.1202877014875412\n",
            "OrderedDict([('weights', tensor([0.4684])), ('bias', tensor([0.3858]))])\n",
            "Epoch: 38 | Loss:0.04642331600189209 | Test loss:0.11783860623836517\n",
            "OrderedDict([('weights', tensor([0.4706])), ('bias', tensor([0.3863]))])\n",
            "Epoch: 39 | Loss:0.04591871052980423 | Test loss:0.11538954079151154\n",
            "OrderedDict([('weights', tensor([0.4728])), ('bias', tensor([0.3868]))])\n",
            "Epoch: 40 | Loss:0.04543796554207802 | Test loss:0.11360953003168106\n",
            "OrderedDict([('weights', tensor([0.4748])), ('bias', tensor([0.3868]))])\n",
            "Epoch: 41 | Loss:0.04503796249628067 | Test loss:0.11182951927185059\n",
            "OrderedDict([('weights', tensor([0.4768])), ('bias', tensor([0.3868]))])\n",
            "Epoch: 42 | Loss:0.04463795945048332 | Test loss:0.1100495308637619\n",
            "OrderedDict([('weights', tensor([0.4788])), ('bias', tensor([0.3868]))])\n",
            "Epoch: 43 | Loss:0.04423796385526657 | Test loss:0.10826952755451202\n",
            "OrderedDict([('weights', tensor([0.4808])), ('bias', tensor([0.3868]))])\n",
            "Epoch: 44 | Loss:0.04383796453475952 | Test loss:0.10648951679468155\n",
            "OrderedDict([('weights', tensor([0.4828])), ('bias', tensor([0.3868]))])\n",
            "Epoch: 45 | Loss:0.04343796148896217 | Test loss:0.10470950603485107\n",
            "OrderedDict([('weights', tensor([0.4848])), ('bias', tensor([0.3868]))])\n",
            "Epoch: 46 | Loss:0.043074630200862885 | Test loss:0.10360751301050186\n",
            "OrderedDict([('weights', tensor([0.4866])), ('bias', tensor([0.3863]))])\n",
            "Epoch: 47 | Loss:0.04272563382983208 | Test loss:0.10250549018383026\n",
            "OrderedDict([('weights', tensor([0.4884])), ('bias', tensor([0.3858]))])\n",
            "Epoch: 48 | Loss:0.04237663000822067 | Test loss:0.10140349715948105\n",
            "OrderedDict([('weights', tensor([0.4902])), ('bias', tensor([0.3853]))])\n",
            "Epoch: 49 | Loss:0.04202762991189957 | Test loss:0.10030148178339005\n",
            "OrderedDict([('weights', tensor([0.4920])), ('bias', tensor([0.3848]))])\n",
            "Epoch: 50 | Loss:0.04167863354086876 | Test loss:0.09919948130846024\n",
            "OrderedDict([('weights', tensor([0.4938])), ('bias', tensor([0.3843]))])\n",
            "Epoch: 51 | Loss:0.04132963344454765 | Test loss:0.09809747338294983\n",
            "OrderedDict([('weights', tensor([0.4956])), ('bias', tensor([0.3838]))])\n",
            "Epoch: 52 | Loss:0.04098063334822655 | Test loss:0.09699545800685883\n",
            "OrderedDict([('weights', tensor([0.4974])), ('bias', tensor([0.3833]))])\n",
            "Epoch: 53 | Loss:0.04063162952661514 | Test loss:0.09589345753192902\n",
            "OrderedDict([('weights', tensor([0.4992])), ('bias', tensor([0.3828]))])\n",
            "Epoch: 54 | Loss:0.040282636880874634 | Test loss:0.0947914719581604\n",
            "OrderedDict([('weights', tensor([0.5010])), ('bias', tensor([0.3823]))])\n",
            "Epoch: 55 | Loss:0.039933640509843826 | Test loss:0.09368947893381119\n",
            "OrderedDict([('weights', tensor([0.5028])), ('bias', tensor([0.3818]))])\n",
            "Epoch: 56 | Loss:0.03958464413881302 | Test loss:0.09258746355772018\n",
            "OrderedDict([('weights', tensor([0.5046])), ('bias', tensor([0.3813]))])\n",
            "Epoch: 57 | Loss:0.03923564404249191 | Test loss:0.09148545563220978\n",
            "OrderedDict([('weights', tensor([0.5064])), ('bias', tensor([0.3808]))])\n",
            "Epoch: 58 | Loss:0.03888664394617081 | Test loss:0.09038344770669937\n",
            "OrderedDict([('weights', tensor([0.5082])), ('bias', tensor([0.3803]))])\n",
            "Epoch: 59 | Loss:0.0385376438498497 | Test loss:0.08928143978118896\n",
            "OrderedDict([('weights', tensor([0.5100])), ('bias', tensor([0.3798]))])\n",
            "Epoch: 60 | Loss:0.03818932920694351 | Test loss:0.08886633068323135\n",
            "OrderedDict([('weights', tensor([0.5116])), ('bias', tensor([0.3788]))])\n",
            "Epoch: 61 | Loss:0.03785243630409241 | Test loss:0.08776430785655975\n",
            "OrderedDict([('weights', tensor([0.5134])), ('bias', tensor([0.3783]))])\n",
            "Epoch: 62 | Loss:0.0375034399330616 | Test loss:0.08666229248046875\n",
            "OrderedDict([('weights', tensor([0.5152])), ('bias', tensor([0.3778]))])\n",
            "Epoch: 63 | Loss:0.037164121866226196 | Test loss:0.08624717593193054\n",
            "OrderedDict([('weights', tensor([0.5168])), ('bias', tensor([0.3768]))])\n",
            "Epoch: 64 | Loss:0.03681822493672371 | Test loss:0.08514519035816193\n",
            "OrderedDict([('weights', tensor([0.5186])), ('bias', tensor([0.3763]))])\n",
            "Epoch: 65 | Loss:0.03647511452436447 | Test loss:0.08473004400730133\n",
            "OrderedDict([('weights', tensor([0.5202])), ('bias', tensor([0.3753]))])\n",
            "Epoch: 66 | Loss:0.03613303601741791 | Test loss:0.08362803608179092\n",
            "OrderedDict([('weights', tensor([0.5220])), ('bias', tensor([0.3748]))])\n",
            "Epoch: 67 | Loss:0.03578609973192215 | Test loss:0.08321291208267212\n",
            "OrderedDict([('weights', tensor([0.5236])), ('bias', tensor([0.3738]))])\n",
            "Epoch: 68 | Loss:0.03544783592224121 | Test loss:0.08211090415716171\n",
            "OrderedDict([('weights', tensor([0.5254])), ('bias', tensor([0.3733]))])\n",
            "Epoch: 69 | Loss:0.035098835825920105 | Test loss:0.0810088962316513\n",
            "OrderedDict([('weights', tensor([0.5272])), ('bias', tensor([0.3728]))])\n",
            "Epoch: 70 | Loss:0.03476089984178543 | Test loss:0.0805937647819519\n",
            "OrderedDict([('weights', tensor([0.5288])), ('bias', tensor([0.3718]))])\n",
            "Epoch: 71 | Loss:0.03441363573074341 | Test loss:0.0794917643070221\n",
            "OrderedDict([('weights', tensor([0.5306])), ('bias', tensor([0.3713]))])\n",
            "Epoch: 72 | Loss:0.03407188132405281 | Test loss:0.07907666265964508\n",
            "OrderedDict([('weights', tensor([0.5322])), ('bias', tensor([0.3703]))])\n",
            "Epoch: 73 | Loss:0.03372843936085701 | Test loss:0.07797462493181229\n",
            "OrderedDict([('weights', tensor([0.5340])), ('bias', tensor([0.3698]))])\n",
            "Epoch: 74 | Loss:0.03338287025690079 | Test loss:0.07755951583385468\n",
            "OrderedDict([('weights', tensor([0.5355])), ('bias', tensor([0.3688]))])\n",
            "Epoch: 75 | Loss:0.033043231815099716 | Test loss:0.07645749300718307\n",
            "OrderedDict([('weights', tensor([0.5373])), ('bias', tensor([0.3683]))])\n",
            "Epoch: 76 | Loss:0.03269423171877861 | Test loss:0.07535548508167267\n",
            "OrderedDict([('weights', tensor([0.5391])), ('bias', tensor([0.3678]))])\n",
            "Epoch: 77 | Loss:0.032357655465602875 | Test loss:0.07494036853313446\n",
            "OrderedDict([('weights', tensor([0.5407])), ('bias', tensor([0.3668]))])\n",
            "Epoch: 78 | Loss:0.03200903534889221 | Test loss:0.07383836805820465\n",
            "OrderedDict([('weights', tensor([0.5425])), ('bias', tensor([0.3663]))])\n",
            "Epoch: 79 | Loss:0.03166864812374115 | Test loss:0.07342323660850525\n",
            "OrderedDict([('weights', tensor([0.5441])), ('bias', tensor([0.3653]))])\n",
            "Epoch: 80 | Loss:0.03132382780313492 | Test loss:0.07232122868299484\n",
            "OrderedDict([('weights', tensor([0.5459])), ('bias', tensor([0.3648]))])\n",
            "Epoch: 81 | Loss:0.030979642644524574 | Test loss:0.07190609723329544\n",
            "OrderedDict([('weights', tensor([0.5475])), ('bias', tensor([0.3638]))])\n",
            "Epoch: 82 | Loss:0.030638623982667923 | Test loss:0.07080408930778503\n",
            "OrderedDict([('weights', tensor([0.5493])), ('bias', tensor([0.3633]))])\n",
            "Epoch: 83 | Loss:0.0302906334400177 | Test loss:0.07038896530866623\n",
            "OrderedDict([('weights', tensor([0.5509])), ('bias', tensor([0.3623]))])\n",
            "Epoch: 84 | Loss:0.029953425750136375 | Test loss:0.06928696483373642\n",
            "OrderedDict([('weights', tensor([0.5527])), ('bias', tensor([0.3618]))])\n",
            "Epoch: 85 | Loss:0.02960442565381527 | Test loss:0.06818496435880661\n",
            "OrderedDict([('weights', tensor([0.5545])), ('bias', tensor([0.3613]))])\n",
            "Epoch: 86 | Loss:0.029265418648719788 | Test loss:0.0677698403596878\n",
            "OrderedDict([('weights', tensor([0.5561])), ('bias', tensor([0.3603]))])\n",
            "Epoch: 87 | Loss:0.028919223695993423 | Test loss:0.0666678324341774\n",
            "OrderedDict([('weights', tensor([0.5579])), ('bias', tensor([0.3598]))])\n",
            "Epoch: 88 | Loss:0.028576409444212914 | Test loss:0.066252700984478\n",
            "OrderedDict([('weights', tensor([0.5595])), ('bias', tensor([0.3588]))])\n",
            "Epoch: 89 | Loss:0.028234025463461876 | Test loss:0.06515069305896759\n",
            "OrderedDict([('weights', tensor([0.5613])), ('bias', tensor([0.3583]))])\n",
            "Epoch: 90 | Loss:0.02788739837706089 | Test loss:0.06473556160926819\n",
            "OrderedDict([('weights', tensor([0.5629])), ('bias', tensor([0.3573]))])\n",
            "Epoch: 91 | Loss:0.02754882536828518 | Test loss:0.06363357603549957\n",
            "OrderedDict([('weights', tensor([0.5647])), ('bias', tensor([0.3568]))])\n",
            "Epoch: 92 | Loss:0.027199819684028625 | Test loss:0.06253156810998917\n",
            "OrderedDict([('weights', tensor([0.5665])), ('bias', tensor([0.3563]))])\n",
            "Epoch: 93 | Loss:0.026862185448408127 | Test loss:0.062116436660289764\n",
            "OrderedDict([('weights', tensor([0.5681])), ('bias', tensor([0.3553]))])\n",
            "Epoch: 94 | Loss:0.02651461586356163 | Test loss:0.061014432460069656\n",
            "OrderedDict([('weights', tensor([0.5699])), ('bias', tensor([0.3548]))])\n",
            "Epoch: 95 | Loss:0.026173178106546402 | Test loss:0.06059930846095085\n",
            "OrderedDict([('weights', tensor([0.5715])), ('bias', tensor([0.3538]))])\n",
            "Epoch: 96 | Loss:0.025829419493675232 | Test loss:0.05949730426073074\n",
            "OrderedDict([('weights', tensor([0.5733])), ('bias', tensor([0.3533]))])\n",
            "Epoch: 97 | Loss:0.02548416517674923 | Test loss:0.05908216908574104\n",
            "OrderedDict([('weights', tensor([0.5748])), ('bias', tensor([0.3523]))])\n",
            "Epoch: 98 | Loss:0.025144213810563087 | Test loss:0.057980168610811234\n",
            "OrderedDict([('weights', tensor([0.5766])), ('bias', tensor([0.3518]))])\n",
            "Epoch: 99 | Loss:0.02479521557688713 | Test loss:0.05687814950942993\n",
            "OrderedDict([('weights', tensor([0.5784])), ('bias', tensor([0.3513]))])\n",
            "Epoch: 100 | Loss:0.024458957836031914 | Test loss:0.05646304413676262\n",
            "OrderedDict([('weights', tensor([0.5800])), ('bias', tensor([0.3503]))])\n",
            "Epoch: 101 | Loss:0.024110013619065285 | Test loss:0.05536102131009102\n",
            "OrderedDict([('weights', tensor([0.5818])), ('bias', tensor([0.3498]))])\n",
            "Epoch: 102 | Loss:0.02376994863152504 | Test loss:0.05494590476155281\n",
            "OrderedDict([('weights', tensor([0.5834])), ('bias', tensor([0.3488]))])\n",
            "Epoch: 103 | Loss:0.02342480979859829 | Test loss:0.05384388566017151\n",
            "OrderedDict([('weights', tensor([0.5852])), ('bias', tensor([0.3483]))])\n",
            "Epoch: 104 | Loss:0.023080935701727867 | Test loss:0.0534287691116333\n",
            "OrderedDict([('weights', tensor([0.5868])), ('bias', tensor([0.3473]))])\n",
            "Epoch: 105 | Loss:0.022739607840776443 | Test loss:0.052326757460832596\n",
            "OrderedDict([('weights', tensor([0.5886])), ('bias', tensor([0.3468]))])\n",
            "Epoch: 106 | Loss:0.022391926497220993 | Test loss:0.05191164091229439\n",
            "OrderedDict([('weights', tensor([0.5902])), ('bias', tensor([0.3458]))])\n",
            "Epoch: 107 | Loss:0.022054409608244896 | Test loss:0.05080962926149368\n",
            "OrderedDict([('weights', tensor([0.5920])), ('bias', tensor([0.3453]))])\n",
            "Epoch: 108 | Loss:0.02170540764927864 | Test loss:0.049707621335983276\n",
            "OrderedDict([('weights', tensor([0.5938])), ('bias', tensor([0.3448]))])\n",
            "Epoch: 109 | Loss:0.021366719156503677 | Test loss:0.04929249361157417\n",
            "OrderedDict([('weights', tensor([0.5954])), ('bias', tensor([0.3438]))])\n",
            "Epoch: 110 | Loss:0.021020207554101944 | Test loss:0.04819049686193466\n",
            "OrderedDict([('weights', tensor([0.5972])), ('bias', tensor([0.3433]))])\n",
            "Epoch: 111 | Loss:0.020677709951996803 | Test loss:0.04777535796165466\n",
            "OrderedDict([('weights', tensor([0.5988])), ('bias', tensor([0.3423]))])\n",
            "Epoch: 112 | Loss:0.02033500373363495 | Test loss:0.046673357486724854\n",
            "OrderedDict([('weights', tensor([0.6006])), ('bias', tensor([0.3418]))])\n",
            "Epoch: 113 | Loss:0.01998869702219963 | Test loss:0.04625822976231575\n",
            "OrderedDict([('weights', tensor([0.6022])), ('bias', tensor([0.3408]))])\n",
            "Epoch: 114 | Loss:0.019649803638458252 | Test loss:0.045156221836805344\n",
            "OrderedDict([('weights', tensor([0.6040])), ('bias', tensor([0.3403]))])\n",
            "Epoch: 115 | Loss:0.019300809130072594 | Test loss:0.04405422881245613\n",
            "OrderedDict([('weights', tensor([0.6058])), ('bias', tensor([0.3398]))])\n",
            "Epoch: 116 | Loss:0.018963487818837166 | Test loss:0.04363910108804703\n",
            "OrderedDict([('weights', tensor([0.6074])), ('bias', tensor([0.3388]))])\n",
            "Epoch: 117 | Loss:0.01861560344696045 | Test loss:0.04253707453608513\n",
            "OrderedDict([('weights', tensor([0.6092])), ('bias', tensor([0.3383]))])\n",
            "Epoch: 118 | Loss:0.018274478614330292 | Test loss:0.042121969163417816\n",
            "OrderedDict([('weights', tensor([0.6108])), ('bias', tensor([0.3373]))])\n",
            "Epoch: 119 | Loss:0.017930403351783752 | Test loss:0.04101995751261711\n",
            "OrderedDict([('weights', tensor([0.6126])), ('bias', tensor([0.3368]))])\n",
            "Epoch: 120 | Loss:0.01758546568453312 | Test loss:0.04060482233762741\n",
            "OrderedDict([('weights', tensor([0.6141])), ('bias', tensor([0.3358]))])\n",
            "Epoch: 121 | Loss:0.017245199531316757 | Test loss:0.0395028181374073\n",
            "OrderedDict([('weights', tensor([0.6159])), ('bias', tensor([0.3353]))])\n",
            "Epoch: 122 | Loss:0.016896454617381096 | Test loss:0.0390876941382885\n",
            "OrderedDict([('weights', tensor([0.6175])), ('bias', tensor([0.3343]))])\n",
            "Epoch: 123 | Loss:0.01656000316143036 | Test loss:0.037985701113939285\n",
            "OrderedDict([('weights', tensor([0.6193])), ('bias', tensor([0.3338]))])\n",
            "Epoch: 124 | Loss:0.016210997477173805 | Test loss:0.03688368946313858\n",
            "OrderedDict([('weights', tensor([0.6211])), ('bias', tensor([0.3333]))])\n",
            "Epoch: 125 | Loss:0.01587124727666378 | Test loss:0.036468543112277985\n",
            "OrderedDict([('weights', tensor([0.6227])), ('bias', tensor([0.3323]))])\n",
            "Epoch: 126 | Loss:0.015525798313319683 | Test loss:0.035366542637348175\n",
            "OrderedDict([('weights', tensor([0.6245])), ('bias', tensor([0.3318]))])\n",
            "Epoch: 127 | Loss:0.015182236209511757 | Test loss:0.034951429814100266\n",
            "OrderedDict([('weights', tensor([0.6261])), ('bias', tensor([0.3308]))])\n",
            "Epoch: 128 | Loss:0.014840595424175262 | Test loss:0.03384942561388016\n",
            "OrderedDict([('weights', tensor([0.6279])), ('bias', tensor([0.3303]))])\n",
            "Epoch: 129 | Loss:0.01449323259294033 | Test loss:0.03343429043889046\n",
            "OrderedDict([('weights', tensor([0.6295])), ('bias', tensor([0.3293]))])\n",
            "Epoch: 130 | Loss:0.014155393466353416 | Test loss:0.03233227878808975\n",
            "OrderedDict([('weights', tensor([0.6313])), ('bias', tensor([0.3288]))])\n",
            "Epoch: 131 | Loss:0.013806397095322609 | Test loss:0.031230276450514793\n",
            "OrderedDict([('weights', tensor([0.6331])), ('bias', tensor([0.3283]))])\n",
            "Epoch: 132 | Loss:0.013468016870319843 | Test loss:0.030815154314041138\n",
            "OrderedDict([('weights', tensor([0.6347])), ('bias', tensor([0.3273]))])\n",
            "Epoch: 133 | Loss:0.013121193274855614 | Test loss:0.02971314825117588\n",
            "OrderedDict([('weights', tensor([0.6365])), ('bias', tensor([0.3268]))])\n",
            "Epoch: 134 | Loss:0.01277900766581297 | Test loss:0.02929801307618618\n",
            "OrderedDict([('weights', tensor([0.6381])), ('bias', tensor([0.3258]))])\n",
            "Epoch: 135 | Loss:0.012435992248356342 | Test loss:0.028196018189191818\n",
            "OrderedDict([('weights', tensor([0.6399])), ('bias', tensor([0.3253]))])\n",
            "Epoch: 136 | Loss:0.01208999752998352 | Test loss:0.027780896052718163\n",
            "OrderedDict([('weights', tensor([0.6415])), ('bias', tensor([0.3243]))])\n",
            "Epoch: 137 | Loss:0.011750795878469944 | Test loss:0.026678884401917458\n",
            "OrderedDict([('weights', tensor([0.6433])), ('bias', tensor([0.3238]))])\n",
            "Epoch: 138 | Loss:0.011401787400245667 | Test loss:0.025576870888471603\n",
            "OrderedDict([('weights', tensor([0.6451])), ('bias', tensor([0.3233]))])\n",
            "Epoch: 139 | Loss:0.011064787395298481 | Test loss:0.025161748751997948\n",
            "OrderedDict([('weights', tensor([0.6467])), ('bias', tensor([0.3223]))])\n",
            "Epoch: 140 | Loss:0.010716589167714119 | Test loss:0.024059748277068138\n",
            "OrderedDict([('weights', tensor([0.6485])), ('bias', tensor([0.3218]))])\n",
            "Epoch: 141 | Loss:0.010375778190791607 | Test loss:0.023644620552659035\n",
            "OrderedDict([('weights', tensor([0.6501])), ('bias', tensor([0.3208]))])\n",
            "Epoch: 142 | Loss:0.010031387209892273 | Test loss:0.022542614489793777\n",
            "OrderedDict([('weights', tensor([0.6519])), ('bias', tensor([0.3203]))])\n",
            "Epoch: 143 | Loss:0.009686763398349285 | Test loss:0.022127490490674973\n",
            "OrderedDict([('weights', tensor([0.6534])), ('bias', tensor([0.3193]))])\n",
            "Epoch: 144 | Loss:0.009346187114715576 | Test loss:0.021025484427809715\n",
            "OrderedDict([('weights', tensor([0.6552])), ('bias', tensor([0.3188]))])\n",
            "Epoch: 145 | Loss:0.008997755125164986 | Test loss:0.020610356703400612\n",
            "OrderedDict([('weights', tensor([0.6568])), ('bias', tensor([0.3178]))])\n",
            "Epoch: 146 | Loss:0.008660981431603432 | Test loss:0.019508343189954758\n",
            "OrderedDict([('weights', tensor([0.6586])), ('bias', tensor([0.3173]))])\n",
            "Epoch: 147 | Loss:0.008311985060572624 | Test loss:0.018406350165605545\n",
            "OrderedDict([('weights', tensor([0.6604])), ('bias', tensor([0.3168]))])\n",
            "Epoch: 148 | Loss:0.007972544990479946 | Test loss:0.017991220578551292\n",
            "OrderedDict([('weights', tensor([0.6620])), ('bias', tensor([0.3158]))])\n",
            "Epoch: 149 | Loss:0.007626785431057215 | Test loss:0.016889220103621483\n",
            "OrderedDict([('weights', tensor([0.6638])), ('bias', tensor([0.3153]))])\n",
            "Epoch: 150 | Loss:0.0072835334576666355 | Test loss:0.016474086791276932\n",
            "OrderedDict([('weights', tensor([0.6654])), ('bias', tensor([0.3143]))])\n",
            "Epoch: 151 | Loss:0.006941580679267645 | Test loss:0.0153720797970891\n",
            "OrderedDict([('weights', tensor([0.6672])), ('bias', tensor([0.3138]))])\n",
            "Epoch: 152 | Loss:0.006594526115804911 | Test loss:0.01495695672929287\n",
            "OrderedDict([('weights', tensor([0.6688])), ('bias', tensor([0.3128]))])\n",
            "Epoch: 153 | Loss:0.006256377790123224 | Test loss:0.013854950666427612\n",
            "OrderedDict([('weights', tensor([0.6706])), ('bias', tensor([0.3123]))])\n",
            "Epoch: 154 | Loss:0.005907376762479544 | Test loss:0.012752944603562355\n",
            "OrderedDict([('weights', tensor([0.6724])), ('bias', tensor([0.3118]))])\n",
            "Epoch: 155 | Loss:0.005569315515458584 | Test loss:0.012337815947830677\n",
            "OrderedDict([('weights', tensor([0.6740])), ('bias', tensor([0.3108]))])\n",
            "Epoch: 156 | Loss:0.005222178064286709 | Test loss:0.011235815472900867\n",
            "OrderedDict([('weights', tensor([0.6758])), ('bias', tensor([0.3103]))])\n",
            "Epoch: 157 | Loss:0.004880306776612997 | Test loss:0.010820692405104637\n",
            "OrderedDict([('weights', tensor([0.6774])), ('bias', tensor([0.3093]))])\n",
            "Epoch: 158 | Loss:0.004536976106464863 | Test loss:0.009718680754303932\n",
            "OrderedDict([('weights', tensor([0.6792])), ('bias', tensor([0.3088]))])\n",
            "Epoch: 159 | Loss:0.00419129803776741 | Test loss:0.009303552098572254\n",
            "OrderedDict([('weights', tensor([0.6808])), ('bias', tensor([0.3078]))])\n",
            "Epoch: 160 | Loss:0.0038517764769494534 | Test loss:0.008201557211577892\n",
            "OrderedDict([('weights', tensor([0.6826])), ('bias', tensor([0.3073]))])\n",
            "Epoch: 161 | Loss:0.0035027749836444855 | Test loss:0.007099539041519165\n",
            "OrderedDict([('weights', tensor([0.6844])), ('bias', tensor([0.3068]))])\n",
            "Epoch: 162 | Loss:0.0031660839449614286 | Test loss:0.006684416439384222\n",
            "OrderedDict([('weights', tensor([0.6860])), ('bias', tensor([0.3058]))])\n",
            "Epoch: 163 | Loss:0.002817571861669421 | Test loss:0.0055824099108576775\n",
            "OrderedDict([('weights', tensor([0.6878])), ('bias', tensor([0.3053]))])\n",
            "Epoch: 164 | Loss:0.0024770735763013363 | Test loss:0.005167287774384022\n",
            "OrderedDict([('weights', tensor([0.6894])), ('bias', tensor([0.3043]))])\n",
            "Epoch: 165 | Loss:0.0021323717664927244 | Test loss:0.004065275192260742\n",
            "OrderedDict([('weights', tensor([0.6912])), ('bias', tensor([0.3038]))])\n",
            "Epoch: 166 | Loss:0.0017880648374557495 | Test loss:0.003650152590125799\n",
            "OrderedDict([('weights', tensor([0.6927])), ('bias', tensor([0.3028]))])\n",
            "Epoch: 167 | Loss:0.0014518328243866563 | Test loss:0.0018701612716540694\n",
            "OrderedDict([('weights', tensor([0.6947])), ('bias', tensor([0.3028]))])\n",
            "Epoch: 168 | Loss:0.0011887758737429976 | Test loss:0.005023092031478882\n",
            "OrderedDict([('weights', tensor([0.6951])), ('bias', tensor([0.2993]))])\n",
            "Epoch: 169 | Loss:0.0025885067880153656 | Test loss:0.008447891101241112\n",
            "OrderedDict([('weights', tensor([0.6990])), ('bias', tensor([0.3093]))])\n",
            "Epoch: 170 | Loss:0.008932482451200485 | Test loss:0.005023092031478882\n",
            "OrderedDict([('weights', tensor([0.6951])), ('bias', tensor([0.2993]))])\n",
            "Epoch: 171 | Loss:0.0025885067880153656 | Test loss:0.008447891101241112\n",
            "OrderedDict([('weights', tensor([0.6990])), ('bias', tensor([0.3093]))])\n",
            "Epoch: 172 | Loss:0.008932482451200485 | Test loss:0.005023092031478882\n",
            "OrderedDict([('weights', tensor([0.6951])), ('bias', tensor([0.2993]))])\n",
            "Epoch: 173 | Loss:0.0025885067880153656 | Test loss:0.008447891101241112\n",
            "OrderedDict([('weights', tensor([0.6990])), ('bias', tensor([0.3093]))])\n",
            "Epoch: 174 | Loss:0.008932482451200485 | Test loss:0.005023092031478882\n",
            "OrderedDict([('weights', tensor([0.6951])), ('bias', tensor([0.2993]))])\n",
            "Epoch: 175 | Loss:0.0025885067880153656 | Test loss:0.008447891101241112\n",
            "OrderedDict([('weights', tensor([0.6990])), ('bias', tensor([0.3093]))])\n",
            "Epoch: 176 | Loss:0.008932482451200485 | Test loss:0.005023092031478882\n",
            "OrderedDict([('weights', tensor([0.6951])), ('bias', tensor([0.2993]))])\n",
            "Epoch: 177 | Loss:0.0025885067880153656 | Test loss:0.008447891101241112\n",
            "OrderedDict([('weights', tensor([0.6990])), ('bias', tensor([0.3093]))])\n",
            "Epoch: 178 | Loss:0.008932482451200485 | Test loss:0.005023092031478882\n",
            "OrderedDict([('weights', tensor([0.6951])), ('bias', tensor([0.2993]))])\n",
            "Epoch: 179 | Loss:0.0025885067880153656 | Test loss:0.008447891101241112\n",
            "OrderedDict([('weights', tensor([0.6990])), ('bias', tensor([0.3093]))])\n",
            "Epoch: 180 | Loss:0.008932482451200485 | Test loss:0.005023092031478882\n",
            "OrderedDict([('weights', tensor([0.6951])), ('bias', tensor([0.2993]))])\n",
            "Epoch: 181 | Loss:0.0025885067880153656 | Test loss:0.008447891101241112\n",
            "OrderedDict([('weights', tensor([0.6990])), ('bias', tensor([0.3093]))])\n",
            "Epoch: 182 | Loss:0.008932482451200485 | Test loss:0.005023092031478882\n",
            "OrderedDict([('weights', tensor([0.6951])), ('bias', tensor([0.2993]))])\n",
            "Epoch: 183 | Loss:0.0025885067880153656 | Test loss:0.008447891101241112\n",
            "OrderedDict([('weights', tensor([0.6990])), ('bias', tensor([0.3093]))])\n",
            "Epoch: 184 | Loss:0.008932482451200485 | Test loss:0.005023092031478882\n",
            "OrderedDict([('weights', tensor([0.6951])), ('bias', tensor([0.2993]))])\n",
            "Epoch: 185 | Loss:0.0025885067880153656 | Test loss:0.008447891101241112\n",
            "OrderedDict([('weights', tensor([0.6990])), ('bias', tensor([0.3093]))])\n",
            "Epoch: 186 | Loss:0.008932482451200485 | Test loss:0.005023092031478882\n",
            "OrderedDict([('weights', tensor([0.6951])), ('bias', tensor([0.2993]))])\n",
            "Epoch: 187 | Loss:0.0025885067880153656 | Test loss:0.008447891101241112\n",
            "OrderedDict([('weights', tensor([0.6990])), ('bias', tensor([0.3093]))])\n",
            "Epoch: 188 | Loss:0.008932482451200485 | Test loss:0.005023092031478882\n",
            "OrderedDict([('weights', tensor([0.6951])), ('bias', tensor([0.2993]))])\n",
            "Epoch: 189 | Loss:0.0025885067880153656 | Test loss:0.008447891101241112\n",
            "OrderedDict([('weights', tensor([0.6990])), ('bias', tensor([0.3093]))])\n",
            "Epoch: 190 | Loss:0.008932482451200485 | Test loss:0.005023092031478882\n",
            "OrderedDict([('weights', tensor([0.6951])), ('bias', tensor([0.2993]))])\n",
            "Epoch: 191 | Loss:0.0025885067880153656 | Test loss:0.008447891101241112\n",
            "OrderedDict([('weights', tensor([0.6990])), ('bias', tensor([0.3093]))])\n",
            "Epoch: 192 | Loss:0.008932482451200485 | Test loss:0.005023092031478882\n",
            "OrderedDict([('weights', tensor([0.6951])), ('bias', tensor([0.2993]))])\n",
            "Epoch: 193 | Loss:0.0025885067880153656 | Test loss:0.008447891101241112\n",
            "OrderedDict([('weights', tensor([0.6990])), ('bias', tensor([0.3093]))])\n",
            "Epoch: 194 | Loss:0.008932482451200485 | Test loss:0.005023092031478882\n",
            "OrderedDict([('weights', tensor([0.6951])), ('bias', tensor([0.2993]))])\n",
            "Epoch: 195 | Loss:0.0025885067880153656 | Test loss:0.008447891101241112\n",
            "OrderedDict([('weights', tensor([0.6990])), ('bias', tensor([0.3093]))])\n",
            "Epoch: 196 | Loss:0.008932482451200485 | Test loss:0.005023092031478882\n",
            "OrderedDict([('weights', tensor([0.6951])), ('bias', tensor([0.2993]))])\n",
            "Epoch: 197 | Loss:0.0025885067880153656 | Test loss:0.008447891101241112\n",
            "OrderedDict([('weights', tensor([0.6990])), ('bias', tensor([0.3093]))])\n",
            "Epoch: 198 | Loss:0.008932482451200485 | Test loss:0.005023092031478882\n",
            "OrderedDict([('weights', tensor([0.6951])), ('bias', tensor([0.2993]))])\n",
            "Epoch: 199 | Loss:0.0025885067880153656 | Test loss:0.008447891101241112\n",
            "OrderedDict([('weights', tensor([0.6990])), ('bias', tensor([0.3093]))])\n"
          ]
        }
      ]
    },
    {
      "cell_type": "code",
      "source": [
        "with torch.inference_mode():\n",
        "  y_preds_new = model_0(X_test)"
      ],
      "metadata": {
        "id": "iFH4PE5WXSNs"
      },
      "execution_count": 62,
      "outputs": []
    },
    {
      "cell_type": "code",
      "source": [
        "plot_predictions(predictions = y_preds_new)"
      ],
      "metadata": {
        "id": "xbcLj0uKYdxC",
        "outputId": "33b7b091-7ff4-4468-d866-163f29547858",
        "colab": {
          "base_uri": "https://localhost:8080/",
          "height": 265
        }
      },
      "execution_count": 63,
      "outputs": [
        {
          "output_type": "display_data",
          "data": {
            "text/plain": [
              "<Figure size 432x288 with 1 Axes>"
            ],
            "image/png": "[encoded data removed]"
          },
          "metadata": {
            "needs_background": "light"
          }
        }
      ]
    },
    {
      "cell_type": "code",
      "source": [],
      "metadata": {
        "id": "_fcV8w3pYgjY"
      },
      "execution_count": 42,
      "outputs": []
    }
  ]
}